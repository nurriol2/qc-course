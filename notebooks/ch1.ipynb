{
 "cells": [
  {
   "cell_type": "markdown",
   "metadata": {},
   "source": [
    "# Chapter 1"
   ]
  },
  {
   "cell_type": "markdown",
   "metadata": {},
   "source": [
    "`Aer` is one of many importable *providers*.\n",
    "\n",
    "`Aer` *provides* the interface to an ideal, simulated quantum computer. \n",
    "\n",
    "A `backend` is one of these ideal, simulated quantum computers.\n",
    "\n",
    "An ideal (nosie free) QC is a classical computer *simulating what a quantum computer would do*."
   ]
  },
  {
   "cell_type": "code",
   "execution_count": 54,
   "metadata": {},
   "outputs": [],
   "source": [
    "from qiskit import QuantumCircuit, assemble, Aer\n",
    "from qiskit.visualization import plot_histogram\n",
    "from qiskit_textbook.widgets import binary_widget"
   ]
  },
  {
   "cell_type": "markdown",
   "metadata": {},
   "source": [
    "# Ch 1.2"
   ]
  },
  {
   "cell_type": "markdown",
   "metadata": {},
   "source": [
    "## Quick Exercises\n",
    "1. Think of a number and try to write it down in binary.\n",
    "\n",
    "`binary_widget` can be used to test your answers for this exercise"
   ]
  },
  {
   "cell_type": "code",
   "execution_count": 55,
   "metadata": {},
   "outputs": [
    {
     "data": {
      "application/vnd.jupyter.widget-view+json": {
       "model_id": "8bda11cff904405c9ce777177d1bff01",
       "version_major": 2,
       "version_minor": 0
      },
      "text/plain": [
       "VBox(children=(Label(value='Toggle the bits below to change the binary number.'), Label(value='Think of a numb…"
      ]
     },
     "metadata": {},
     "output_type": "display_data"
    },
    {
     "data": {
      "application/vnd.jupyter.widget-view+json": {
       "model_id": "345a35a93ef44e8e93be3db2a7af00c3",
       "version_major": 2,
       "version_minor": 0
      },
      "text/plain": [
       "HTML(value='<pre>Binary   Decimal\\n 00000 = 0</pre>')"
      ]
     },
     "metadata": {},
     "output_type": "display_data"
    }
   ],
   "source": [
    "# Create an interactive exercise\n",
    "# Exercise:  Attempt to write a number in binary from 0 to 2^nbits\n",
    "binary_widget(nbits=5)"
   ]
  },
  {
   "cell_type": "markdown",
   "metadata": {},
   "source": [
    "## Quick Exercises Cont'd\n",
    "2. If you have n bits, how many different states can they be in?\n",
    "\n",
    "For a binary numbering system and n bits there are a total of `2^n` possible states.\n",
    "That's why for Quick Exercise 1 (`nbits=5`) the options are 0 to 31 (32 total options)."
   ]
  },
  {
   "cell_type": "markdown",
   "metadata": {},
   "source": [
    "# Ch 1.3\n",
    "\n",
    "The basic **quantum circuit** workflow is:\n",
    "1. Encode the input\n",
    "2. Perform computation\n",
    "3. Interpret the output"
   ]
  },
  {
   "cell_type": "code",
   "execution_count": 56,
   "metadata": {},
   "outputs": [
    {
     "data": {
      "text/html": [
       "<pre style=\"word-wrap: normal;white-space: pre;background: #fff0;line-height: 1.1;font-family: &quot;Courier New&quot;,Courier,monospace\">        \n",
       "q_0: |0>\n",
       "        \n",
       "q_1: |0>\n",
       "        \n",
       "q_2: |0>\n",
       "        \n",
       "q_3: |0>\n",
       "        \n",
       "q_4: |0>\n",
       "        \n",
       "q_5: |0>\n",
       "        \n",
       "q_6: |0>\n",
       "        \n",
       "q_7: |0>\n",
       "        </pre>"
      ],
      "text/plain": [
       "        \n",
       "q_0: |0>\n",
       "        \n",
       "q_1: |0>\n",
       "        \n",
       "q_2: |0>\n",
       "        \n",
       "q_3: |0>\n",
       "        \n",
       "q_4: |0>\n",
       "        \n",
       "q_5: |0>\n",
       "        \n",
       "q_6: |0>\n",
       "        \n",
       "q_7: |0>\n",
       "        "
      ]
     },
     "execution_count": 56,
     "metadata": {},
     "output_type": "execute_result"
    }
   ],
   "source": [
    "# Create a quantum circuit with 8 qubits in |0>\n",
    "qc_output = QuantumCircuit(8)\n",
    "# Draw the initial circuit diagram\n",
    "qc_output.draw(initial_state=True) # Circuit diagram will display initial state of the qubits\n"
   ]
  },
  {
   "cell_type": "markdown",
   "metadata": {},
   "source": [
    "`measure_all()` will automatically create a classical register to store the results"
   ]
  },
  {
   "cell_type": "code",
   "execution_count": 57,
   "metadata": {},
   "outputs": [
    {
     "data": {
      "text/html": [
       "<pre style=\"word-wrap: normal;white-space: pre;background: #fff0;line-height: 1.1;font-family: &quot;Courier New&quot;,Courier,monospace\">           ░ ┌─┐                     \n",
       "  q_0: |0>─░─┤M├─────────────────────\n",
       "           ░ └╥┘┌─┐                  \n",
       "  q_1: |0>─░──╫─┤M├──────────────────\n",
       "           ░  ║ └╥┘┌─┐               \n",
       "  q_2: |0>─░──╫──╫─┤M├───────────────\n",
       "           ░  ║  ║ └╥┘┌─┐            \n",
       "  q_3: |0>─░──╫──╫──╫─┤M├────────────\n",
       "           ░  ║  ║  ║ └╥┘┌─┐         \n",
       "  q_4: |0>─░──╫──╫──╫──╫─┤M├─────────\n",
       "           ░  ║  ║  ║  ║ └╥┘┌─┐      \n",
       "  q_5: |0>─░──╫──╫──╫──╫──╫─┤M├──────\n",
       "           ░  ║  ║  ║  ║  ║ └╥┘┌─┐   \n",
       "  q_6: |0>─░──╫──╫──╫──╫──╫──╫─┤M├───\n",
       "           ░  ║  ║  ║  ║  ║  ║ └╥┘┌─┐\n",
       "  q_7: |0>─░──╫──╫──╫──╫──╫──╫──╫─┤M├\n",
       "           ░  ║  ║  ║  ║  ║  ║  ║ └╥┘\n",
       "meas: 0 8/════╩══╩══╩══╩══╩══╩══╩══╩═\n",
       "              0  1  2  3  4  5  6  7 </pre>"
      ],
      "text/plain": [
       "           ░ ┌─┐                     \n",
       "  q_0: |0>─░─┤M├─────────────────────\n",
       "           ░ └╥┘┌─┐                  \n",
       "  q_1: |0>─░──╫─┤M├──────────────────\n",
       "           ░  ║ └╥┘┌─┐               \n",
       "  q_2: |0>─░──╫──╫─┤M├───────────────\n",
       "           ░  ║  ║ └╥┘┌─┐            \n",
       "  q_3: |0>─░──╫──╫──╫─┤M├────────────\n",
       "           ░  ║  ║  ║ └╥┘┌─┐         \n",
       "  q_4: |0>─░──╫──╫──╫──╫─┤M├─────────\n",
       "           ░  ║  ║  ║  ║ └╥┘┌─┐      \n",
       "  q_5: |0>─░──╫──╫──╫──╫──╫─┤M├──────\n",
       "           ░  ║  ║  ║  ║  ║ └╥┘┌─┐   \n",
       "  q_6: |0>─░──╫──╫──╫──╫──╫──╫─┤M├───\n",
       "           ░  ║  ║  ║  ║  ║  ║ └╥┘┌─┐\n",
       "  q_7: |0>─░──╫──╫──╫──╫──╫──╫──╫─┤M├\n",
       "           ░  ║  ║  ║  ║  ║  ║  ║ └╥┘\n",
       "meas: 0 8/════╩══╩══╩══╩══╩══╩══╩══╩═\n",
       "              0  1  2  3  4  5  6  7 "
      ]
     },
     "execution_count": 57,
     "metadata": {},
     "output_type": "execute_result"
    }
   ],
   "source": [
    "# Measure all the qubits in the qc from above\n",
    "qc_output.measure_all()\n",
    "# Draw the circuit diagram again. Note the measurement operations are shown, too!\n",
    "qc_output.draw(initial_state=True)"
   ]
  },
  {
   "cell_type": "code",
   "execution_count": 58,
   "metadata": {},
   "outputs": [
    {
     "data": {
      "text/plain": [
       "qiskit.result.result.Result"
      ]
     },
     "execution_count": 58,
     "metadata": {},
     "output_type": "execute_result"
    }
   ],
   "source": [
    "# Create a new simulator (backend object)\n",
    "sim = Aer.get_backend(\"aer_simulator\")\n",
    "# Run the circuit on an ideal QC and then collect the count statistics\n",
    "result = sim.run(qc_output).result() # Result uses little endian formatting\n",
    "type(result)"
   ]
  },
  {
   "cell_type": "code",
   "execution_count": 59,
   "metadata": {},
   "outputs": [
    {
     "data": {
      "image/png": "[encoded data removed]",
      "text/plain": [
       "<Figure size 504x360 with 1 Axes>"
      ]
     },
     "execution_count": 59,
     "metadata": {},
     "output_type": "execute_result"
    }
   ],
   "source": [
    "# Passing a QuantumCircuit to get_counts provides the index of the experiment\n",
    "# I think this will be useful when you have multiple circuits\n",
    "counts = result.get_counts(qc_output)\n",
    "# 100% of the time we will measure all eight qubits in the 0 state\n",
    "# |00000000>\n",
    "plot_histogram(counts)"
   ]
  },
  {
   "cell_type": "markdown",
   "metadata": {},
   "source": [
    "# Ch 1.4"
   ]
  },
  {
   "cell_type": "code",
   "execution_count": 60,
   "metadata": {},
   "outputs": [
    {
     "data": {
      "text/html": [
       "<pre style=\"word-wrap: normal;white-space: pre;background: #fff0;line-height: 1.1;font-family: &quot;Courier New&quot;,Courier,monospace\">             \n",
       "q_0: |0>─────\n",
       "             \n",
       "q_1: |0>─────\n",
       "             \n",
       "q_2: |0>─────\n",
       "             \n",
       "q_3: |0>─────\n",
       "             \n",
       "q_4: |0>─────\n",
       "             \n",
       "q_5: |0>─────\n",
       "             \n",
       "q_6: |0>─────\n",
       "        ┌───┐\n",
       "q_7: |0>┤ X ├\n",
       "        └───┘</pre>"
      ],
      "text/plain": [
       "             \n",
       "q_0: |0>─────\n",
       "             \n",
       "q_1: |0>─────\n",
       "             \n",
       "q_2: |0>─────\n",
       "             \n",
       "q_3: |0>─────\n",
       "             \n",
       "q_4: |0>─────\n",
       "             \n",
       "q_5: |0>─────\n",
       "             \n",
       "q_6: |0>─────\n",
       "        ┌───┐\n",
       "q_7: |0>┤ X ├\n",
       "        └───┘"
      ]
     },
     "execution_count": 60,
     "metadata": {},
     "output_type": "execute_result"
    }
   ],
   "source": [
    "# Create a QC with 8 qubits. Then, NOT the 8th qubit\n",
    "\n",
    "# The new circuit will encode some \"useful\" information\n",
    "qc_encode = QuantumCircuit(8)\n",
    "# NOT the 8th qubit\n",
    "qc_encode.x(7)\n",
    "qc_encode.draw(initial_state=True)"
   ]
  },
  {
   "cell_type": "code",
   "execution_count": 61,
   "metadata": {},
   "outputs": [
    {
     "data": {
      "text/html": [
       "<pre style=\"word-wrap: normal;white-space: pre;background: #fff0;line-height: 1.1;font-family: &quot;Courier New&quot;,Courier,monospace\">              ░ ┌─┐                     \n",
       "   q_0: ──────░─┤M├─────────────────────\n",
       "              ░ └╥┘┌─┐                  \n",
       "   q_1: ──────░──╫─┤M├──────────────────\n",
       "              ░  ║ └╥┘┌─┐               \n",
       "   q_2: ──────░──╫──╫─┤M├───────────────\n",
       "              ░  ║  ║ └╥┘┌─┐            \n",
       "   q_3: ──────░──╫──╫──╫─┤M├────────────\n",
       "              ░  ║  ║  ║ └╥┘┌─┐         \n",
       "   q_4: ──────░──╫──╫──╫──╫─┤M├─────────\n",
       "              ░  ║  ║  ║  ║ └╥┘┌─┐      \n",
       "   q_5: ──────░──╫──╫──╫──╫──╫─┤M├──────\n",
       "              ░  ║  ║  ║  ║  ║ └╥┘┌─┐   \n",
       "   q_6: ──────░──╫──╫──╫──╫──╫──╫─┤M├───\n",
       "        ┌───┐ ░  ║  ║  ║  ║  ║  ║ └╥┘┌─┐\n",
       "   q_7: ┤ X ├─░──╫──╫──╫──╫──╫──╫──╫─┤M├\n",
       "        └───┘ ░  ║  ║  ║  ║  ║  ║  ║ └╥┘\n",
       "meas: 8/═════════╩══╩══╩══╩══╩══╩══╩══╩═\n",
       "                 0  1  2  3  4  5  6  7 </pre>"
      ],
      "text/plain": [
       "              ░ ┌─┐                     \n",
       "   q_0: ──────░─┤M├─────────────────────\n",
       "              ░ └╥┘┌─┐                  \n",
       "   q_1: ──────░──╫─┤M├──────────────────\n",
       "              ░  ║ └╥┘┌─┐               \n",
       "   q_2: ──────░──╫──╫─┤M├───────────────\n",
       "              ░  ║  ║ └╥┘┌─┐            \n",
       "   q_3: ──────░──╫──╫──╫─┤M├────────────\n",
       "              ░  ║  ║  ║ └╥┘┌─┐         \n",
       "   q_4: ──────░──╫──╫──╫──╫─┤M├─────────\n",
       "              ░  ║  ║  ║  ║ └╥┘┌─┐      \n",
       "   q_5: ──────░──╫──╫──╫──╫──╫─┤M├──────\n",
       "              ░  ║  ║  ║  ║  ║ └╥┘┌─┐   \n",
       "   q_6: ──────░──╫──╫──╫──╫──╫──╫─┤M├───\n",
       "        ┌───┐ ░  ║  ║  ║  ║  ║  ║ └╥┘┌─┐\n",
       "   q_7: ┤ X ├─░──╫──╫──╫──╫──╫──╫──╫─┤M├\n",
       "        └───┘ ░  ║  ║  ║  ║  ║  ║  ║ └╥┘\n",
       "meas: 8/═════════╩══╩══╩══╩══╩══╩══╩══╩═\n",
       "                 0  1  2  3  4  5  6  7 "
      ]
     },
     "execution_count": 61,
     "metadata": {},
     "output_type": "execute_result"
    }
   ],
   "source": [
    "# Measure all the qubits\n",
    "qc_encode.measure_all()\n",
    "qc_encode.draw()"
   ]
  },
  {
   "cell_type": "code",
   "execution_count": 62,
   "metadata": {},
   "outputs": [
    {
     "data": {
      "image/png": "[encoded data removed]",
      "text/plain": [
       "<Figure size 504x360 with 1 Axes>"
      ]
     },
     "execution_count": 62,
     "metadata": {},
     "output_type": "execute_result"
    }
   ],
   "source": [
    "# Create a new simulator (shadow the old one, for now)\n",
    "sim = Aer.get_backend(\"aer_simulator\")\n",
    "# Run the encode QC on the simulator THEN create a results object from that simulation\n",
    "encode_results = sim.run(qc_encode).result()\n",
    "# Access the counts attribute of the Results \n",
    "counts = encode_results.get_counts(qc_encode)\n",
    "# Plot the counts\n",
    "plot_histogram(counts, title=\"QC Encode\")"
   ]
  },
  {
   "cell_type": "markdown",
   "metadata": {},
   "source": [
    "## Exercise:  Write a string representing your age from the counts of a QC\n",
    "\n",
    "25 in binary (little endian) is 1 + 8 + 16 = 2^0 + 2^3 + 2^4 .:.\n",
    "\n",
    "25 = 00011001"
   ]
  },
  {
   "cell_type": "code",
   "execution_count": 63,
   "metadata": {},
   "outputs": [
    {
     "data": {
      "text/html": [
       "<pre style=\"word-wrap: normal;white-space: pre;background: #fff0;line-height: 1.1;font-family: &quot;Courier New&quot;,Courier,monospace\">          ┌───┐ ░ ┌─┐                     \n",
       "  q_0: |0>┤ X ├─░─┤M├─────────────────────\n",
       "          └───┘ ░ └╥┘┌─┐                  \n",
       "  q_1: |0>──────░──╫─┤M├──────────────────\n",
       "                ░  ║ └╥┘┌─┐               \n",
       "  q_2: |0>──────░──╫──╫─┤M├───────────────\n",
       "          ┌───┐ ░  ║  ║ └╥┘┌─┐            \n",
       "  q_3: |0>┤ X ├─░──╫──╫──╫─┤M├────────────\n",
       "          ├───┤ ░  ║  ║  ║ └╥┘┌─┐         \n",
       "  q_4: |0>┤ X ├─░──╫──╫──╫──╫─┤M├─────────\n",
       "          └───┘ ░  ║  ║  ║  ║ └╥┘┌─┐      \n",
       "  q_5: |0>──────░──╫──╫──╫──╫──╫─┤M├──────\n",
       "                ░  ║  ║  ║  ║  ║ └╥┘┌─┐   \n",
       "  q_6: |0>──────░──╫──╫──╫──╫──╫──╫─┤M├───\n",
       "                ░  ║  ║  ║  ║  ║  ║ └╥┘┌─┐\n",
       "  q_7: |0>──────░──╫──╫──╫──╫──╫──╫──╫─┤M├\n",
       "                ░  ║  ║  ║  ║  ║  ║  ║ └╥┘\n",
       "meas: 0 8/═════════╩══╩══╩══╩══╩══╩══╩══╩═\n",
       "                   0  1  2  3  4  5  6  7 </pre>"
      ],
      "text/plain": [
       "          ┌───┐ ░ ┌─┐                     \n",
       "  q_0: |0>┤ X ├─░─┤M├─────────────────────\n",
       "          └───┘ ░ └╥┘┌─┐                  \n",
       "  q_1: |0>──────░──╫─┤M├──────────────────\n",
       "                ░  ║ └╥┘┌─┐               \n",
       "  q_2: |0>──────░──╫──╫─┤M├───────────────\n",
       "          ┌───┐ ░  ║  ║ └╥┘┌─┐            \n",
       "  q_3: |0>┤ X ├─░──╫──╫──╫─┤M├────────────\n",
       "          ├───┤ ░  ║  ║  ║ └╥┘┌─┐         \n",
       "  q_4: |0>┤ X ├─░──╫──╫──╫──╫─┤M├─────────\n",
       "          └───┘ ░  ║  ║  ║  ║ └╥┘┌─┐      \n",
       "  q_5: |0>──────░──╫──╫──╫──╫──╫─┤M├──────\n",
       "                ░  ║  ║  ║  ║  ║ └╥┘┌─┐   \n",
       "  q_6: |0>──────░──╫──╫──╫──╫──╫──╫─┤M├───\n",
       "                ░  ║  ║  ║  ║  ║  ║ └╥┘┌─┐\n",
       "  q_7: |0>──────░──╫──╫──╫──╫──╫──╫──╫─┤M├\n",
       "                ░  ║  ║  ║  ║  ║  ║  ║ └╥┘\n",
       "meas: 0 8/═════════╩══╩══╩══╩══╩══╩══╩══╩═\n",
       "                   0  1  2  3  4  5  6  7 "
      ]
     },
     "execution_count": 63,
     "metadata": {},
     "output_type": "execute_result"
    }
   ],
   "source": [
    "# Create a quantum circuit with 8 qubits\n",
    "age_qc = QuantumCircuit(8)\n",
    "# Select the qubits that need to be flipped on\n",
    "on_bits = [0, 3, 4]\n",
    "# Apply a NOT gate to the specified qubits\n",
    "for bit in on_bits:\n",
    "    age_qc.x(bit)\n",
    "# Measure the results of the circuit\n",
    "age_qc.measure_all()\n",
    "# Draw for debugging\n",
    "age_qc.draw(initial_state=True)"
   ]
  },
  {
   "cell_type": "code",
   "execution_count": 64,
   "metadata": {},
   "outputs": [
    {
     "data": {
      "image/png": "[encoded data removed]",
      "text/plain": [
       "<Figure size 504x360 with 1 Axes>"
      ]
     },
     "execution_count": 64,
     "metadata": {},
     "output_type": "execute_result"
    }
   ],
   "source": [
    "# Create a simulator\n",
    "age_sim = Aer.get_backend(\"aer_simulator\")\n",
    "# Run the qc\n",
    "age_result = age_sim.run(age_qc).result()\n",
    "# Interpret the results as counts\n",
    "age_string = age_result.get_counts(age_qc)\n",
    "# Plot the counts\n",
    "plot_histogram(age_string, title=\"Age as a BitString\")"
   ]
  },
  {
   "cell_type": "markdown",
   "metadata": {},
   "source": [
    "## Create a half-adder circuit\n",
    "\n",
    "Try this exercise on your own before walking through the textbook implementation"
   ]
  },
  {
   "cell_type": "markdown",
   "metadata": {},
   "source": [
    "We already know that a half-adder is just a circuit that takes 2 bits and outputs at most 2 other bits. So, we might expect that this circuit should have 2 input and 2 outputs, telling us we need to initialize a 4 qubit qc.\n",
    "\n",
    "Then, we looked at the truth table for a half-adder. Both the |10> and |01> states \"target\" the same qubit, according to their results; that is, both states output |01>. So we might control the rightmost qubit on either inputs being |1>. Then, for the |11> case, we simply target the other qubit.\n",
    "If we use only CNOT, then the |00> case takes care of itself.\n",
    "\n",
    "Finally, we know that only the last 2 qubits are giving us our \"answer\". So, we should measure those."
   ]
  },
  {
   "cell_type": "markdown",
   "metadata": {},
   "source": [
    "Hint:  The rightmost bit is always NOT(are the inputs the same?)"
   ]
  },
  {
   "cell_type": "markdown",
   "metadata": {},
   "source": [
    "Classical **XOR** is Quantum **CNOT**"
   ]
  },
  {
   "cell_type": "code",
   "execution_count": 65,
   "metadata": {},
   "outputs": [
    {
     "data": {
      "text/html": [
       "<pre style=\"word-wrap: normal;white-space: pre;background: #fff0;line-height: 1.1;font-family: &quot;Courier New&quot;,Courier,monospace\">              ░                 ░       \n",
       "q_0: |0>──────░───■─────────■───░───────\n",
       "        ┌───┐ ░   │         │   ░       \n",
       "q_1: |0>┤ X ├─░───┼────■────■───░───────\n",
       "        └───┘ ░ ┌─┴─┐┌─┴─┐  │   ░ ┌─┐   \n",
       "q_2: |0>──────░─┤ X ├┤ X ├──┼───░─┤M├───\n",
       "              ░ └───┘└───┘┌─┴─┐ ░ └╥┘┌─┐\n",
       "q_3: |0>──────░───────────┤ X ├─░──╫─┤M├\n",
       "              ░           └───┘ ░  ║ └╥┘\n",
       " c: 0 2/═══════════════════════════╩══╩═\n",
       "                                   0  1 </pre>"
      ],
      "text/plain": [
       "              ░                 ░       \n",
       "q_0: |0>──────░───■─────────■───░───────\n",
       "        ┌───┐ ░   │         │   ░       \n",
       "q_1: |0>┤ X ├─░───┼────■────■───░───────\n",
       "        └───┘ ░ ┌─┴─┐┌─┴─┐  │   ░ ┌─┐   \n",
       "q_2: |0>──────░─┤ X ├┤ X ├──┼───░─┤M├───\n",
       "              ░ └───┘└───┘┌─┴─┐ ░ └╥┘┌─┐\n",
       "q_3: |0>──────░───────────┤ X ├─░──╫─┤M├\n",
       "              ░           └───┘ ░  ║ └╥┘\n",
       " c: 0 2/═══════════════════════════╩══╩═\n",
       "                                   0  1 "
      ]
     },
     "execution_count": 65,
     "metadata": {},
     "output_type": "execute_result"
    }
   ],
   "source": [
    "# Initialize 4 Qubits, 2 Classical Bit\n",
    "half_adder = QuantumCircuit(4,2)\n",
    "\n",
    "# Adding program - Defaults to |00> input\n",
    "## Uncomment for other types of input\n",
    "# |10>\n",
    "#half_adder.x(0)\n",
    "\n",
    "# |01>\n",
    "half_adder.x(1)\n",
    "\n",
    "# |11>\n",
    "#half_adder.x([0, 1])\n",
    "half_adder.barrier()\n",
    "\n",
    "half_adder.cx(0, 2)\n",
    "half_adder.cx(1, 2)\n",
    "half_adder.ccx(0, 1, 3)\n",
    "\n",
    "# Measure the 2th and 3th qubit\n",
    "half_adder.barrier()\n",
    "half_adder.measure(2, 0)\n",
    "half_adder.measure(3, 1)\n",
    "half_adder.draw(initial_state=True)"
   ]
  },
  {
   "cell_type": "markdown",
   "metadata": {},
   "source": [
    "Passing `Qobj` to `simulator.run(Qobj)` means we don't need to call `get_counts(experiment/QuantumCircuit...)`\n",
    "\n",
    "Create a `Qobj` by *assembling* a QC"
   ]
  },
  {
   "cell_type": "code",
   "execution_count": 66,
   "metadata": {},
   "outputs": [
    {
     "data": {
      "image/png": "[encoded data removed]",
      "text/plain": [
       "<Figure size 504x360 with 1 Axes>"
      ]
     },
     "execution_count": 66,
     "metadata": {},
     "output_type": "execute_result"
    }
   ],
   "source": [
    "half_adder_sim = Aer.get_backend(\"aer_simulator\")\n",
    "# \"Assemble a quantum assembly (language) object\"\n",
    "# This can be passed into run(...)\n",
    "qobj = assemble(half_adder)\n",
    "# By passing a Qobj to run, we don't need to call the `experiment` param inside of get_counts()\n",
    "half_adder_counts = half_adder_sim.run(qobj).result().get_counts()\n",
    "plot_histogram(half_adder_counts, title=\"Half Adder\")"
   ]
  },
  {
   "cell_type": "code",
   "execution_count": null,
   "metadata": {},
   "outputs": [],
   "source": []
  }
 ],
 "metadata": {
  "interpreter": {
   "hash": "93b85139d995aa133e6bd85782ec9973c5f037ea1cb345abb9e1f93284221874"
  },
  "kernelspec": {
   "display_name": "Python 3.8.12 ('py38')",
   "language": "python",
   "name": "python3"
  },
  "language_info": {
   "codemirror_mode": {
    "name": "ipython",
    "version": 3
   },
   "file_extension": ".py",
   "mimetype": "text/x-python",
   "name": "python",
   "nbconvert_exporter": "python",
   "pygments_lexer": "ipython3",
   "version": "3.8.12"
  },
  "orig_nbformat": 4
 },
 "nbformat": 4,
 "nbformat_minor": 2
}
